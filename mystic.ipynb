{
 "cells": [
  {
   "cell_type": "code",
   "execution_count": 1,
   "metadata": {
    "collapsed": false
   },
   "outputs": [
    {
     "name": "stderr",
     "output_type": "stream",
     "text": [
      "C:\\Users\\tetris\\Anaconda3\\lib\\site-packages\\gensim\\utils.py:865: UserWarning: detected Windows; aliasing chunkize to chunkize_serial\n",
      "  warnings.warn(\"detected Windows; aliasing chunkize to chunkize_serial\")\n"
     ]
    }
   ],
   "source": [
    "import gensim\n",
    "model = gensim.models.Word2Vec.load(r\"C:\\Ralph\\data\\mystic_wv\")"
   ]
  },
  {
   "cell_type": "code",
   "execution_count": 2,
   "metadata": {
    "collapsed": false
   },
   "outputs": [
    {
     "data": {
      "text/plain": [
       "['__class__',\n",
       " '__contains__',\n",
       " '__delattr__',\n",
       " '__dict__',\n",
       " '__dir__',\n",
       " '__doc__',\n",
       " '__eq__',\n",
       " '__format__',\n",
       " '__ge__',\n",
       " '__getattribute__',\n",
       " '__getitem__',\n",
       " '__gt__',\n",
       " '__hash__',\n",
       " '__ignoreds',\n",
       " '__init__',\n",
       " '__init_subclass__',\n",
       " '__le__',\n",
       " '__lt__',\n",
       " '__module__',\n",
       " '__ne__',\n",
       " '__new__',\n",
       " '__numpys',\n",
       " '__recursive_saveloads',\n",
       " '__reduce__',\n",
       " '__reduce_ex__',\n",
       " '__repr__',\n",
       " '__scipys',\n",
       " '__setattr__',\n",
       " '__sizeof__',\n",
       " '__str__',\n",
       " '__subclasshook__',\n",
       " '__weakref__',\n",
       " '_adapt_by_suffix',\n",
       " '_load_specials',\n",
       " '_save_specials',\n",
       " '_smart_save',\n",
       " 'accuracy',\n",
       " 'doesnt_match',\n",
       " 'evaluate_word_pairs',\n",
       " 'get_embedding_layer',\n",
       " 'index2word',\n",
       " 'init_sims',\n",
       " 'load',\n",
       " 'load_word2vec_format',\n",
       " 'log_accuracy',\n",
       " 'log_evaluate_word_pairs',\n",
       " 'most_similar',\n",
       " 'most_similar_cosmul',\n",
       " 'n_similarity',\n",
       " 'save',\n",
       " 'save_word2vec_format',\n",
       " 'similar_by_vector',\n",
       " 'similar_by_word',\n",
       " 'similarity',\n",
       " 'syn0',\n",
       " 'syn0norm',\n",
       " 'vector_size',\n",
       " 'vocab',\n",
       " 'wmdistance',\n",
       " 'word_vec',\n",
       " 'wv']"
      ]
     },
     "execution_count": 2,
     "metadata": {},
     "output_type": "execute_result"
    }
   ],
   "source": [
    "dir(model.wv)"
   ]
  },
  {
   "cell_type": "code",
   "execution_count": 3,
   "metadata": {
    "collapsed": false
   },
   "outputs": [
    {
     "data": {
      "text/plain": [
       "[(';v', 0.9295620918273926),\n",
       " (':I', 0.7793853282928467),\n",
       " ('o3o', 0.7282853126525879),\n",
       " ('.3.', 0.7263917922973633),\n",
       " (':P', 0.7233684062957764),\n",
       " (';-;', 0.7072972059249878),\n",
       " ('xD', 0.6867099404335022),\n",
       " (':)', 0.6788772344589233),\n",
       " ('xd', 0.6764060258865356),\n",
       " ('>:I', 0.6729893684387207)]"
      ]
     },
     "execution_count": 3,
     "metadata": {},
     "output_type": "execute_result"
    }
   ],
   "source": [
    "model.wv.similar_by_word(\":v\")"
   ]
  },
  {
   "cell_type": "code",
   "execution_count": 4,
   "metadata": {
    "collapsed": false
   },
   "outputs": [
    {
     "data": {
      "text/plain": [
       "[('config.', 0.7024478912353516),\n",
       " ('server', 0.6900525093078613),\n",
       " ('PK', 0.689659833908081),\n",
       " ('plugin', 0.6890528202056885),\n",
       " ('anticheat', 0.6853290796279907),\n",
       " ('situation', 0.6504120826721191),\n",
       " ('community', 0.6462322473526001),\n",
       " ('anti-cheat', 0.6313628554344177),\n",
       " ('pk', 0.618043065071106),\n",
       " ('terrain', 0.614764392375946)]"
      ]
     },
     "execution_count": 4,
     "metadata": {},
     "output_type": "execute_result"
    }
   ],
   "source": [
    "model.wv.similar_by_word(\"config\")"
   ]
  },
  {
   "cell_type": "code",
   "execution_count": 5,
   "metadata": {
    "collapsed": false
   },
   "outputs": [
    {
     "data": {
      "text/plain": [
       "[('anticheat', 0.633792519569397),\n",
       " ('server', 0.624114453792572),\n",
       " ('PK', 0.6150485873222351),\n",
       " ('config.', 0.6078809499740601),\n",
       " (\"server's\", 0.5923694372177124),\n",
       " ('pk', 0.5721780061721802),\n",
       " ('configs', 0.5653355717658997),\n",
       " ('anti-cheat', 0.5617307424545288),\n",
       " ('server,', 0.5506986379623413),\n",
       " ('jedcore', 0.5470201969146729)]"
      ]
     },
     "execution_count": 5,
     "metadata": {},
     "output_type": "execute_result"
    }
   ],
   "source": [
    "model.wv.most_similar(positive=[\"hate\", \"config\"], negative=[\"love\"])"
   ]
  },
  {
   "cell_type": "code",
   "execution_count": 6,
   "metadata": {
    "collapsed": false
   },
   "outputs": [
    {
     "data": {
      "text/plain": [
       "[('situation', 0.6975677013397217),\n",
       " ('community', 0.651140570640564),\n",
       " ('plugin', 0.6225606203079224),\n",
       " ('marriage', 0.6057640314102173),\n",
       " ('relationship', 0.5897104740142822),\n",
       " ('layout', 0.5823885798454285),\n",
       " ('config.', 0.5787012577056885),\n",
       " ('description', 0.5772362947463989),\n",
       " ('issue', 0.5766851902008057),\n",
       " ('character', 0.5747009515762329)]"
      ]
     },
     "execution_count": 6,
     "metadata": {},
     "output_type": "execute_result"
    }
   ],
   "source": [
    "model.wv.most_similar(positive=[\"love\", \"config\"], negative=[\"hate\"])"
   ]
  },
  {
   "cell_type": "code",
   "execution_count": 7,
   "metadata": {
    "collapsed": false
   },
   "outputs": [
    {
     "data": {
      "text/plain": [
       "[('tonto', 0.8842675685882568),\n",
       " ('ayyyy', 0.8770551681518555),\n",
       " ('buen', 0.8734931349754333),\n",
       " ('sabia', 0.870944619178772),\n",
       " ('igual', 0.8701435327529907),\n",
       " ('malo', 0.8701353073120117),\n",
       " ('otra', 0.8691302537918091),\n",
       " ('esto', 0.8683563470840454),\n",
       " ('buena', 0.8683067560195923),\n",
       " ('nambe', 0.8673198223114014)]"
      ]
     },
     "execution_count": 7,
     "metadata": {},
     "output_type": "execute_result"
    }
   ],
   "source": [
    "model.wv.similar_by_word(\"baboso\")"
   ]
  },
  {
   "cell_type": "code",
   "execution_count": 8,
   "metadata": {
    "collapsed": false
   },
   "outputs": [
    {
     "data": {
      "text/plain": [
       "[('Traced_', 0.8161723613739014),\n",
       " ('traced', 0.7383706569671631),\n",
       " ('brilashy', 0.7378737330436707),\n",
       " ('traced_', 0.7267045378684998),\n",
       " ('Judam', 0.7154480218887329),\n",
       " ('trace', 0.7068063020706177),\n",
       " ('PotatoFingers', 0.7001358270645142),\n",
       " ('judy', 0.6930557489395142),\n",
       " ('bril', 0.6922582387924194),\n",
       " ('logan', 0.6867366433143616)]"
      ]
     },
     "execution_count": 8,
     "metadata": {},
     "output_type": "execute_result"
    }
   ],
   "source": [
    "model.wv.most_similar(positive=[\"Brilashy\", \"misty\"], negative=[\"bri\"])"
   ]
  },
  {
   "cell_type": "code",
   "execution_count": 9,
   "metadata": {
    "collapsed": false
   },
   "outputs": [
    {
     "data": {
      "text/plain": [
       "[('littlelucario_', 0.7998714447021484),\n",
       " ('KrazyShadow', 0.7768936157226562),\n",
       " ('Nolan901', 0.7594949007034302),\n",
       " ('Lawegic', 0.7466634511947632),\n",
       " ('roders321', 0.7283973097801208),\n",
       " ('Smileyx', 0.7283005714416504),\n",
       " ('MTG333', 0.7257574796676636),\n",
       " ('nollie', 0.7244619727134705),\n",
       " ('Martijn7860', 0.724443793296814),\n",
       " ('botbox300', 0.7162796258926392)]"
      ]
     },
     "execution_count": 9,
     "metadata": {},
     "output_type": "execute_result"
    }
   ],
   "source": [
    "model.wv.most_similar(positive=[\"Brilashy\", \"luc\"], negative=[\"bri\"])"
   ]
  },
  {
   "cell_type": "code",
   "execution_count": 10,
   "metadata": {
    "collapsed": false
   },
   "outputs": [
    {
     "data": {
      "text/plain": [
       "[('tetrisd', 0.7656959295272827),\n",
       " ('littlelucario_', 0.7066712975502014),\n",
       " ('PotatoFingers', 0.6989085674285889),\n",
       " ('Traced_', 0.6882161498069763),\n",
       " ('plush', 0.6876837611198425),\n",
       " ('Smileyx', 0.6753576993942261),\n",
       " ('tahj', 0.6701528429985046),\n",
       " ('KrazyShadow', 0.6664421558380127),\n",
       " ('BitesFromWolf', 0.6658273339271545),\n",
       " ('roders321', 0.6639057397842407)]"
      ]
     },
     "execution_count": 10,
     "metadata": {},
     "output_type": "execute_result"
    }
   ],
   "source": [
    "model.wv.most_similar(positive=[\"Brilashy\", \"tet\"], negative=[\"bri\"])"
   ]
  },
  {
   "cell_type": "code",
   "execution_count": null,
   "metadata": {
    "collapsed": true
   },
   "outputs": [],
   "source": []
  }
 ],
 "metadata": {
  "kernelspec": {
   "display_name": "Python 3",
   "language": "python",
   "name": "python3"
  },
  "language_info": {
   "codemirror_mode": {
    "name": "ipython",
    "version": 3
   },
   "file_extension": ".py",
   "mimetype": "text/x-python",
   "name": "python",
   "nbconvert_exporter": "python",
   "pygments_lexer": "ipython3",
   "version": "3.6.0"
  }
 },
 "nbformat": 4,
 "nbformat_minor": 2
}
